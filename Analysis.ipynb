{
 "cells": [
  {
   "cell_type": "code",
   "execution_count": 2,
   "metadata": {},
   "outputs": [],
   "source": [
    "import pandas as pd\n",
    "import numpy as np \n",
    "import matplotlib.pyplot as plt\n",
    "from scipy.stats import zscore\n"
   ]
  },
  {
   "cell_type": "code",
   "execution_count": 3,
   "metadata": {},
   "outputs": [
    {
     "data": {
      "text/html": [
       "<div>\n",
       "<style scoped>\n",
       "    .dataframe tbody tr th:only-of-type {\n",
       "        vertical-align: middle;\n",
       "    }\n",
       "\n",
       "    .dataframe tbody tr th {\n",
       "        vertical-align: top;\n",
       "    }\n",
       "\n",
       "    .dataframe thead th {\n",
       "        text-align: right;\n",
       "    }\n",
       "</style>\n",
       "<table border=\"1\" class=\"dataframe\">\n",
       "  <thead>\n",
       "    <tr style=\"text-align: right;\">\n",
       "      <th></th>\n",
       "      <th>Store</th>\n",
       "      <th>Date</th>\n",
       "      <th>Weekly_Sales</th>\n",
       "      <th>Holiday_Flag</th>\n",
       "      <th>Temperature</th>\n",
       "      <th>Fuel_Price</th>\n",
       "      <th>CPI</th>\n",
       "      <th>Unemployment</th>\n",
       "    </tr>\n",
       "  </thead>\n",
       "  <tbody>\n",
       "    <tr>\n",
       "      <th>0</th>\n",
       "      <td>1</td>\n",
       "      <td>05-02-2010</td>\n",
       "      <td>1643690.90</td>\n",
       "      <td>0</td>\n",
       "      <td>42.31</td>\n",
       "      <td>2.572</td>\n",
       "      <td>211.096358</td>\n",
       "      <td>8.106</td>\n",
       "    </tr>\n",
       "    <tr>\n",
       "      <th>1</th>\n",
       "      <td>1</td>\n",
       "      <td>12-02-2010</td>\n",
       "      <td>1641957.44</td>\n",
       "      <td>1</td>\n",
       "      <td>38.51</td>\n",
       "      <td>2.548</td>\n",
       "      <td>211.242170</td>\n",
       "      <td>8.106</td>\n",
       "    </tr>\n",
       "    <tr>\n",
       "      <th>2</th>\n",
       "      <td>1</td>\n",
       "      <td>19-02-2010</td>\n",
       "      <td>1611968.17</td>\n",
       "      <td>0</td>\n",
       "      <td>39.93</td>\n",
       "      <td>2.514</td>\n",
       "      <td>211.289143</td>\n",
       "      <td>8.106</td>\n",
       "    </tr>\n",
       "    <tr>\n",
       "      <th>3</th>\n",
       "      <td>1</td>\n",
       "      <td>26-02-2010</td>\n",
       "      <td>1409727.59</td>\n",
       "      <td>0</td>\n",
       "      <td>46.63</td>\n",
       "      <td>2.561</td>\n",
       "      <td>211.319643</td>\n",
       "      <td>8.106</td>\n",
       "    </tr>\n",
       "    <tr>\n",
       "      <th>4</th>\n",
       "      <td>1</td>\n",
       "      <td>05-03-2010</td>\n",
       "      <td>1554806.68</td>\n",
       "      <td>0</td>\n",
       "      <td>46.50</td>\n",
       "      <td>2.625</td>\n",
       "      <td>211.350143</td>\n",
       "      <td>8.106</td>\n",
       "    </tr>\n",
       "    <tr>\n",
       "      <th>...</th>\n",
       "      <td>...</td>\n",
       "      <td>...</td>\n",
       "      <td>...</td>\n",
       "      <td>...</td>\n",
       "      <td>...</td>\n",
       "      <td>...</td>\n",
       "      <td>...</td>\n",
       "      <td>...</td>\n",
       "    </tr>\n",
       "    <tr>\n",
       "      <th>6430</th>\n",
       "      <td>45</td>\n",
       "      <td>28-09-2012</td>\n",
       "      <td>713173.95</td>\n",
       "      <td>0</td>\n",
       "      <td>64.88</td>\n",
       "      <td>3.997</td>\n",
       "      <td>192.013558</td>\n",
       "      <td>8.684</td>\n",
       "    </tr>\n",
       "    <tr>\n",
       "      <th>6431</th>\n",
       "      <td>45</td>\n",
       "      <td>05-10-2012</td>\n",
       "      <td>733455.07</td>\n",
       "      <td>0</td>\n",
       "      <td>64.89</td>\n",
       "      <td>3.985</td>\n",
       "      <td>192.170412</td>\n",
       "      <td>8.667</td>\n",
       "    </tr>\n",
       "    <tr>\n",
       "      <th>6432</th>\n",
       "      <td>45</td>\n",
       "      <td>12-10-2012</td>\n",
       "      <td>734464.36</td>\n",
       "      <td>0</td>\n",
       "      <td>54.47</td>\n",
       "      <td>4.000</td>\n",
       "      <td>192.327265</td>\n",
       "      <td>8.667</td>\n",
       "    </tr>\n",
       "    <tr>\n",
       "      <th>6433</th>\n",
       "      <td>45</td>\n",
       "      <td>19-10-2012</td>\n",
       "      <td>718125.53</td>\n",
       "      <td>0</td>\n",
       "      <td>56.47</td>\n",
       "      <td>3.969</td>\n",
       "      <td>192.330854</td>\n",
       "      <td>8.667</td>\n",
       "    </tr>\n",
       "    <tr>\n",
       "      <th>6434</th>\n",
       "      <td>45</td>\n",
       "      <td>26-10-2012</td>\n",
       "      <td>760281.43</td>\n",
       "      <td>0</td>\n",
       "      <td>58.85</td>\n",
       "      <td>3.882</td>\n",
       "      <td>192.308899</td>\n",
       "      <td>8.667</td>\n",
       "    </tr>\n",
       "  </tbody>\n",
       "</table>\n",
       "<p>6435 rows × 8 columns</p>\n",
       "</div>"
      ],
      "text/plain": [
       "      Store        Date  Weekly_Sales  Holiday_Flag  Temperature  Fuel_Price  \\\n",
       "0         1  05-02-2010    1643690.90             0        42.31       2.572   \n",
       "1         1  12-02-2010    1641957.44             1        38.51       2.548   \n",
       "2         1  19-02-2010    1611968.17             0        39.93       2.514   \n",
       "3         1  26-02-2010    1409727.59             0        46.63       2.561   \n",
       "4         1  05-03-2010    1554806.68             0        46.50       2.625   \n",
       "...     ...         ...           ...           ...          ...         ...   \n",
       "6430     45  28-09-2012     713173.95             0        64.88       3.997   \n",
       "6431     45  05-10-2012     733455.07             0        64.89       3.985   \n",
       "6432     45  12-10-2012     734464.36             0        54.47       4.000   \n",
       "6433     45  19-10-2012     718125.53             0        56.47       3.969   \n",
       "6434     45  26-10-2012     760281.43             0        58.85       3.882   \n",
       "\n",
       "             CPI  Unemployment  \n",
       "0     211.096358         8.106  \n",
       "1     211.242170         8.106  \n",
       "2     211.289143         8.106  \n",
       "3     211.319643         8.106  \n",
       "4     211.350143         8.106  \n",
       "...          ...           ...  \n",
       "6430  192.013558         8.684  \n",
       "6431  192.170412         8.667  \n",
       "6432  192.327265         8.667  \n",
       "6433  192.330854         8.667  \n",
       "6434  192.308899         8.667  \n",
       "\n",
       "[6435 rows x 8 columns]"
      ]
     },
     "execution_count": 3,
     "metadata": {},
     "output_type": "execute_result"
    }
   ],
   "source": [
    "data = pd.read_csv(\"Walmart.csv\")\n",
    "df = pd.DataFrame(data)\n",
    "df"
   ]
  },
  {
   "cell_type": "code",
   "execution_count": 4,
   "metadata": {},
   "outputs": [
    {
     "name": "stdout",
     "output_type": "stream",
     "text": [
      "Date:  <class 'str'>\n",
      "Store:  <class 'numpy.int64'>\n",
      "Weekly Sales:  <class 'numpy.float64'>\n",
      "Temperature:  <class 'numpy.float64'>\n",
      "Fuel Price:  <class 'numpy.float64'>\n",
      "CPI:  <class 'numpy.float64'>\n",
      "Unemployement:  <class 'numpy.float64'>\n"
     ]
    }
   ],
   "source": [
    "date_type = type(df['Date'][0])\n",
    "store_type = type(df['Store'][0])\n",
    "weeklySales_type = type(df['Weekly_Sales'][0])\n",
    "Temp_type = type(df['Temperature'][0])\n",
    "Fuelprice_type = type(df['Fuel_Price'][0])\n",
    "cpi_type = type(df['CPI'][0])\n",
    "unemployement_type = type(df['Unemployment'][0])\n",
    "\n",
    "print('Date: ',date_type)\n",
    "print('Store: ',store_type)\n",
    "print('Weekly Sales: ',weeklySales_type)\n",
    "print('Temperature: ',Temp_type)\n",
    "print('Fuel Price: ',Fuelprice_type)\n",
    "print('CPI: ',cpi_type)\n",
    "print('Unemployement: ',unemployement_type)"
   ]
  },
  {
   "cell_type": "markdown",
   "metadata": {},
   "source": [
    "### Finding missing values if exists"
   ]
  },
  {
   "cell_type": "code",
   "execution_count": 5,
   "metadata": {},
   "outputs": [
    {
     "name": "stdout",
     "output_type": "stream",
     "text": [
      "Are there any null values in the DataFrame?\n",
      "False\n"
     ]
    }
   ],
   "source": [
    "has_nulls = df.isnull().values.any()\n",
    "print(\"Are there any null values in the DataFrame?\")\n",
    "print(has_nulls)\n"
   ]
  },
  {
   "cell_type": "markdown",
   "metadata": {},
   "source": [
    "## Finding outliers if exists"
   ]
  },
  {
   "cell_type": "code",
   "execution_count": 6,
   "metadata": {},
   "outputs": [
    {
     "data": {
      "image/png": "[encoded data removed]",
      "text/plain": [
       "<Figure size 640x480 with 1 Axes>"
      ]
     },
     "metadata": {},
     "output_type": "display_data"
    }
   ],
   "source": [
    "import matplotlib.pyplot as plt\n",
    "\n",
    "plt.boxplot(df['Weekly_Sales'])\n",
    "plt.title('Box plot for column Weekly Sales')\n",
    "plt.show()\n"
   ]
  },
  {
   "cell_type": "code",
   "execution_count": 7,
   "metadata": {},
   "outputs": [
    {
     "data": {
      "image/png": "[encoded data removed]",
      "text/plain": [
       "<Figure size 640x480 with 1 Axes>"
      ]
     },
     "metadata": {},
     "output_type": "display_data"
    }
   ],
   "source": [
    "plt.boxplot(df['Temperature'])\n",
    "plt.title('Box plot for Temperature')\n",
    "plt.show()"
   ]
  },
  {
   "cell_type": "code",
   "execution_count": 8,
   "metadata": {},
   "outputs": [
    {
     "data": {
      "image/png": "[encoded data removed]",
      "text/plain": [
       "<Figure size 640x480 with 1 Axes>"
      ]
     },
     "metadata": {},
     "output_type": "display_data"
    }
   ],
   "source": [
    "plt.boxplot(df['Fuel_Price'])\n",
    "plt.title('Box plot for Fuel_Price')\n",
    "plt.show()"
   ]
  },
  {
   "cell_type": "code",
   "execution_count": 9,
   "metadata": {},
   "outputs": [
    {
     "data": {
      "image/png": "[encoded data removed]",
      "text/plain": [
       "<Figure size 640x480 with 1 Axes>"
      ]
     },
     "metadata": {},
     "output_type": "display_data"
    }
   ],
   "source": [
    "plt.boxplot(df['CPI'])\n",
    "plt.title('Box plot for CPI')\n",
    "plt.show()"
   ]
  },
  {
   "cell_type": "code",
   "execution_count": 10,
   "metadata": {},
   "outputs": [
    {
     "data": {
      "image/png": "[encoded data removed]",
      "text/plain": [
       "<Figure size 640x480 with 1 Axes>"
      ]
     },
     "metadata": {},
     "output_type": "display_data"
    }
   ],
   "source": [
    "plt.boxplot(df['Unemployment'])\n",
    "plt.title('Box plot for Unemployment')\n",
    "plt.show()"
   ]
  },
  {
   "cell_type": "code",
   "execution_count": 11,
   "metadata": {},
   "outputs": [
    {
     "name": "stdout",
     "output_type": "stream",
     "text": [
      "3818686.45\n",
      "1046964.8775617715\n"
     ]
    }
   ],
   "source": [
    "print(max(df['Weekly_Sales']))\n",
    "print(df['Weekly_Sales'].mean())"
   ]
  },
  {
   "cell_type": "markdown",
   "metadata": {},
   "source": [
    "## Outliers in Weekly Sales"
   ]
  },
  {
   "cell_type": "code",
   "execution_count": 12,
   "metadata": {},
   "outputs": [
    {
     "name": "stdout",
     "output_type": "stream",
     "text": [
      "Outliers based on IQR:\n",
      "      Store        Date  Weekly_Sales  Holiday_Flag  Temperature  Fuel_Price  \\\n",
      "189       2  24-12-2010    3436007.68             0        49.97       2.886   \n",
      "241       2  23-12-2011    3224369.80             0        46.66       3.112   \n",
      "471       4  26-11-2010    2789469.45             1        48.08       2.752   \n",
      "474       4  17-12-2010    2740057.14             0        46.57       2.884   \n",
      "475       4  24-12-2010    3526713.39             0        43.21       2.887   \n",
      "523       4  25-11-2011    3004702.33             1        47.96       3.225   \n",
      "526       4  16-12-2011    2771397.17             0        36.44       3.149   \n",
      "527       4  23-12-2011    3676388.98             0        35.92       3.103   \n",
      "761       6  24-12-2010    2727575.18             0        55.07       2.886   \n",
      "1329     10  26-11-2010    2939946.38             1        55.33       3.162   \n",
      "1332     10  17-12-2010    2811646.85             0        59.15       3.125   \n",
      "1333     10  24-12-2010    3749057.69             0        57.06       3.236   \n",
      "1381     10  25-11-2011    2950198.64             1        60.68       3.760   \n",
      "1385     10  23-12-2011    3487986.89             0        48.36       3.541   \n",
      "1758     13  26-11-2010    2766400.05             1        28.22       2.830   \n",
      "1761     13  17-12-2010    2771646.81             0        35.21       2.842   \n",
      "1762     13  24-12-2010    3595903.20             0        34.90       2.846   \n",
      "1810     13  25-11-2011    2864170.61             1        38.89       3.445   \n",
      "1813     13  16-12-2011    2760346.71             0        27.85       3.282   \n",
      "1814     13  23-12-2011    3556766.03             0        24.76       3.186   \n",
      "1901     14  26-11-2010    2921709.71             1        46.15       3.039   \n",
      "1904     14  17-12-2010    2762861.41             0        30.51       3.140   \n",
      "1905     14  24-12-2010    3818686.45             0        30.59       3.141   \n",
      "1957     14  23-12-2011    3369068.99             0        42.27       3.389   \n",
      "2759     20  26-11-2010    2811634.04             1        46.66       3.039   \n",
      "2761     20  10-12-2010    2752122.08             0        24.27       3.109   \n",
      "2762     20  17-12-2010    2819193.17             0        24.07       3.140   \n",
      "2763     20  24-12-2010    3766687.43             0        25.17       3.141   \n",
      "2811     20  25-11-2011    2906233.25             1        46.38       3.492   \n",
      "2814     20  16-12-2011    2762816.65             0        37.16       3.413   \n",
      "2815     20  23-12-2011    3555371.03             0        40.19       3.389   \n",
      "3192     23  24-12-2010    2734277.10             0        22.96       3.150   \n",
      "3764     27  24-12-2010    3078162.08             0        31.34       3.309   \n",
      "3816     27  23-12-2011    2739019.75             0        41.59       3.587   \n",
      "\n",
      "             CPI  Unemployment  \n",
      "189   211.064660         8.163  \n",
      "241   218.999550         7.441  \n",
      "471   126.669267         7.127  \n",
      "474   126.879484         7.127  \n",
      "475   126.983581         7.127  \n",
      "523   129.836400         5.143  \n",
      "526   129.898065         5.143  \n",
      "527   129.984548         5.143  \n",
      "761   212.916508         7.007  \n",
      "1329  126.669267         9.003  \n",
      "1332  126.879484         9.003  \n",
      "1333  126.983581         9.003  \n",
      "1381  129.836400         7.874  \n",
      "1385  129.984548         7.874  \n",
      "1758  126.669267         7.795  \n",
      "1761  126.879484         7.795  \n",
      "1762  126.983581         7.795  \n",
      "1810  129.836400         6.392  \n",
      "1813  129.898065         6.392  \n",
      "1814  129.984548         6.392  \n",
      "1901  182.783277         8.724  \n",
      "1904  182.517732         8.724  \n",
      "1905  182.544590         8.724  \n",
      "1957  188.929975         8.523  \n",
      "2759  204.962100         7.484  \n",
      "2761  204.687738         7.484  \n",
      "2762  204.632119         7.484  \n",
      "2763  204.637673         7.484  \n",
      "2811  211.412076         7.082  \n",
      "2814  212.068504         7.082  \n",
      "2815  212.236040         7.082  \n",
      "3192  132.747742         5.287  \n",
      "3764  136.597273         8.021  \n",
      "3816  140.528765         7.906  \n",
      "Indices of outliers based on IQR:\n",
      "Index([ 189,  241,  471,  474,  475,  523,  526,  527,  761, 1329, 1332, 1333,\n",
      "       1381, 1385, 1758, 1761, 1762, 1810, 1813, 1814, 1901, 1904, 1905, 1957,\n",
      "       2759, 2761, 2762, 2763, 2811, 2814, 2815, 3192, 3764, 3816],\n",
      "      dtype='int64')\n"
     ]
    }
   ],
   "source": [
    "# Calculate Q1 (25th percentile) and Q3 (75th percentile)\n",
    "Q1 = df['Weekly_Sales'].quantile(0.25)\n",
    "Q3 = df['Weekly_Sales'].quantile(0.75)\n",
    "IQR = Q3 - Q1\n",
    "lower_bound = Q1 - 1.5 * IQR\n",
    "upper_bound = Q3 + 1.5 * IQR\n",
    "## getting the indices of outliers\n",
    "outliers_iqr = df[(df['Weekly_Sales'] < lower_bound) | (df['Weekly_Sales'] > upper_bound)]\n",
    "outlier_indices_iqr = outliers_iqr.index\n",
    "print(\"Outliers based on IQR:\")\n",
    "print(outliers_iqr)\n",
    "print(\"Indices of outliers based on IQR:\")\n",
    "print(outlier_indices_iqr)\n"
   ]
  },
  {
   "cell_type": "markdown",
   "metadata": {},
   "source": [
    "## Outliers in Temperature"
   ]
  },
  {
   "cell_type": "code",
   "execution_count": 13,
   "metadata": {},
   "outputs": [
    {
     "name": "stdout",
     "output_type": "stream",
     "text": [
      "Outliers based on IQR:\n",
      "      Store        Date  Weekly_Sales  Holiday_Flag  Temperature  Fuel_Price  \\\n",
      "910       7  04-02-2011     558027.77             0        -2.06       3.011   \n",
      "2336     17  07-01-2011    1083071.14             0         6.23       2.891   \n",
      "3626     26  28-01-2011     817485.14             0         5.54       3.243   \n",
      "\n",
      "             CPI  Unemployment  \n",
      "910   191.762589         8.818  \n",
      "2336  127.191774         6.866  \n",
      "3626  133.105968         7.907  \n",
      "Indices of outliers based on IQR:\n",
      "Index([910, 2336, 3626], dtype='int64')\n"
     ]
    }
   ],
   "source": [
    "Q1 = df['Temperature'].quantile(0.25)\n",
    "Q3 = df['Temperature'].quantile(0.75)\n",
    "IQR = Q3 - Q1\n",
    "lower_bound = Q1 - 1.5 * IQR\n",
    "upper_bound = Q3 + 1.5 * IQR\n",
    "# getting the indices of outliers\n",
    "outliers_iq = df[(df['Temperature'] < lower_bound) | (df['Temperature'] > upper_bound)]\n",
    "outlier_indices_iqr = outliers_iq.index\n",
    "print(\"Outliers based on IQR:\")\n",
    "print(outliers_iq)\n",
    "print(\"Indices of outliers based on IQR:\")\n",
    "print(outlier_indices_iqr)"
   ]
  },
  {
   "cell_type": "markdown",
   "metadata": {},
   "source": [
    "## Outliers in Fuel Price"
   ]
  },
  {
   "cell_type": "code",
   "execution_count": 14,
   "metadata": {},
   "outputs": [
    {
     "name": "stdout",
     "output_type": "stream",
     "text": [
      "Outliers based on IQR:\n",
      "Empty DataFrame\n",
      "Columns: [Store, Date, Weekly_Sales, Holiday_Flag, Temperature, Fuel_Price, CPI, Unemployment]\n",
      "Index: []\n",
      "Indices of outliers based on IQR:\n",
      "Index([], dtype='int64')\n"
     ]
    }
   ],
   "source": [
    "Q1 = df['Fuel_Price'].quantile(0.25)\n",
    "Q3 = df['Fuel_Price'].quantile(0.75)\n",
    "IQR = Q3 - Q1\n",
    "lower_bound = Q1 - 1.5 * IQR\n",
    "upper_bound = Q3 + 1.5 * IQR\n",
    "# getting the indices of outliers\n",
    "outliers_iq = df[(df['Fuel_Price'] < lower_bound) | (df['Fuel_Price'] > upper_bound)]\n",
    "outlier_indices_iqr = outliers_iq.index\n",
    "print(\"Outliers based on IQR:\")\n",
    "print(outliers_iq)\n",
    "print(\"Indices of outliers based on IQR:\")\n",
    "print(outlier_indices_iqr)"
   ]
  },
  {
   "cell_type": "markdown",
   "metadata": {},
   "source": [
    "## Outliers in CPI"
   ]
  },
  {
   "cell_type": "code",
   "execution_count": 15,
   "metadata": {},
   "outputs": [
    {
     "name": "stdout",
     "output_type": "stream",
     "text": [
      "Outliers based on IQR:\n",
      "Empty DataFrame\n",
      "Columns: [Store, Date, Weekly_Sales, Holiday_Flag, Temperature, Fuel_Price, CPI, Unemployment]\n",
      "Index: []\n",
      "Indices of outliers based on IQR:\n",
      "Index([], dtype='int64')\n"
     ]
    }
   ],
   "source": [
    "Q1 = df['CPI'].quantile(0.25)\n",
    "Q3 = df['CPI'].quantile(0.75)\n",
    "IQR = Q3 - Q1\n",
    "lower_bound = Q1 - 1.5 * IQR\n",
    "upper_bound = Q3 + 1.5 * IQR\n",
    "# getting the indices of outliers\n",
    "outliers_iq = df[(df['CPI'] < lower_bound) | (df['CPI'] > upper_bound)]\n",
    "outlier_indices_iqr = outliers_iq.index\n",
    "print(\"Outliers based on IQR:\")\n",
    "print(outliers_iq)\n",
    "print(\"Indices of outliers based on IQR:\")\n",
    "print(outlier_indices_iqr)"
   ]
  },
  {
   "cell_type": "markdown",
   "metadata": {},
   "source": [
    "## Outliers in Unemployment"
   ]
  },
  {
   "cell_type": "code",
   "execution_count": 16,
   "metadata": {},
   "outputs": [
    {
     "name": "stdout",
     "output_type": "stream",
     "text": [
      "Outliers based on IQR:\n",
      "      Store        Date  Weekly_Sales  Holiday_Flag  Temperature  Fuel_Price  \\\n",
      "555       4  06-07-2012    2224499.28             0        80.37       3.187   \n",
      "556       4  13-07-2012    2100252.61             0        76.86       3.224   \n",
      "557       4  20-07-2012    2175563.69             0        79.14       3.263   \n",
      "558       4  27-07-2012    2048613.65             0        81.06       3.356   \n",
      "559       4  03-08-2012    2174514.13             0        83.86       3.374   \n",
      "...     ...         ...           ...           ...          ...         ...   \n",
      "5715     40  28-09-2012     919595.44             0        50.98       4.018   \n",
      "5716     40  05-10-2012    1069112.00             0        57.21       4.027   \n",
      "5717     40  12-10-2012     982523.26             0        47.35       4.029   \n",
      "5718     40  19-10-2012     918170.50             0        46.33       4.000   \n",
      "5719     40  26-10-2012     921264.52             0        49.65       3.917   \n",
      "\n",
      "             CPI  Unemployment  \n",
      "555   130.719633         4.077  \n",
      "556   130.683000         4.077  \n",
      "557   130.701290         4.077  \n",
      "558   130.719581         4.077  \n",
      "559   130.737871         4.077  \n",
      "...          ...           ...  \n",
      "5715  138.739500         4.156  \n",
      "5716  138.825600         4.145  \n",
      "5717  138.911700         4.145  \n",
      "5718  138.833613         4.145  \n",
      "5719  138.728161         4.145  \n",
      "\n",
      "[481 rows x 8 columns]\n",
      "Indices of outliers based on IQR:\n",
      "Index([ 555,  556,  557,  558,  559,  560,  561,  562,  563,  564,\n",
      "       ...\n",
      "       5710, 5711, 5712, 5713, 5714, 5715, 5716, 5717, 5718, 5719],\n",
      "      dtype='int64', length=481)\n"
     ]
    }
   ],
   "source": [
    "Q1 = df['Unemployment'].quantile(0.25)\n",
    "Q3 = df['Unemployment'].quantile(0.75)\n",
    "IQR = Q3 - Q1\n",
    "lower_bound = Q1 - 1.5 * IQR\n",
    "upper_bound = Q3 + 1.5 * IQR\n",
    "# getting the indices of outliers\n",
    "outliers_iq = df[(df['Unemployment'] < lower_bound) | (df['Unemployment'] > upper_bound)]\n",
    "outlier_indices_iqr = outliers_iq.index\n",
    "print(\"Outliers based on IQR:\")\n",
    "print(outliers_iq)\n",
    "print(\"Indices of outliers based on IQR:\")\n",
    "print(outlier_indices_iqr)"
   ]
  },
  {
   "cell_type": "code",
   "execution_count": null,
   "metadata": {},
   "outputs": [],
   "source": []
  }
 ],
 "metadata": {
  "kernelspec": {
   "display_name": "Python 3",
   "language": "python",
   "name": "python3"
  },
  "language_info": {
   "codemirror_mode": {
    "name": "ipython",
    "version": 3
   },
   "file_extension": ".py",
   "mimetype": "text/x-python",
   "name": "python",
   "nbconvert_exporter": "python",
   "pygments_lexer": "ipython3",
   "version": "3.11.4"
  }
 },
 "nbformat": 4,
 "nbformat_minor": 2
}
